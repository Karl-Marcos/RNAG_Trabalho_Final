{
 "cells": [
  {
   "cell_type": "code",
   "execution_count": 1,
   "id": "5e17c7c6-eaed-4f34-a4f6-071fb492c3aa",
   "metadata": {},
   "outputs": [],
   "source": [
    "from deap import base, creator, tools, gp\n",
    "from deap.algorithms import eaSimple\n",
    "import math\n",
    "import numpy\n",
    "import operator\n",
    "import random as rd\n",
    "import lmfit\n",
    "import numpy as np\n",
    "import sympy as sp\n",
    "import matplotlib.pyplot as plt\n",
    "plt.style.use('seaborn-bright')\n",
    "from sympy import Symbol, expand\n",
    "from funcoes import malthus, verhulst, gompertz, runge_kutta"
   ]
  },
  {
   "cell_type": "code",
   "execution_count": 2,
   "id": "3d395ccc-f2c7-41d6-9967-0731df7fbbc3",
   "metadata": {},
   "outputs": [],
   "source": [
    "T0 = 0\n",
    "TF = 10\n",
    "H = 0.1\n",
    "X0 = 5\n",
    "A = 0.5\n",
    "\n",
    "T, X = runge_kutta(malthus, T0, X0, TF, H, A)"
   ]
  },
  {
   "cell_type": "code",
   "execution_count": 3,
   "id": "71f0c33a-c496-4181-b142-7c5d502eed80",
   "metadata": {},
   "outputs": [],
   "source": [
    "def protectedDiv(left, right):\n",
    "    if type(left) == float:\n",
    "        if right == 0:\n",
    "            return 1\n",
    "        else:\n",
    "            return left / right\n",
    "    else:\n",
    "        # Replace zero terms in the divider array with 1\n",
    "        right_without_zeros = np.where(right == 0, 1, right)\n",
    "\n",
    "        # Perform element-wise division\n",
    "        result = left / right_without_zeros\n",
    "\n",
    "        return result\n",
    "\n",
    "def protected_exp(x):\n",
    "\n",
    "    try:\n",
    "        result = np.exp(x)\n",
    "    except OverflowError:\n",
    "        result = np.ones_like(x)\n",
    "    return result\n",
    "\n",
    "    \n",
    "pset = gp.PrimitiveSet(\"MAIN\", 3)\n",
    "pset.addPrimitive(operator.add, 2)\n",
    "pset.addPrimitive(operator.sub, 2)\n",
    "pset.addPrimitive(operator.mul, 2)\n",
    "pset.addPrimitive(protectedDiv, 2)\n",
    "pset.addPrimitive(operator.neg, 1)\n",
    "pset.addPrimitive(np.cos, 1)\n",
    "pset.addPrimitive(np.sin, 1)\n",
    "pset.addPrimitive(protected_exp, 1)\n",
    "\n",
    "pset.addEphemeralConstant(\"rand101\", lambda: rd.randint(-1,1))\n",
    "pset.renameArguments(ARG0='t', ARG1 = 'a', ARG2 = 'b')"
   ]
  },
  {
   "cell_type": "code",
   "execution_count": 4,
   "id": "82158262-93d5-467e-8913-7ea4c0d9c4ba",
   "metadata": {},
   "outputs": [],
   "source": [
    "creator.create(\"FitnessMin\", base.Fitness, weights=(-1.0,))\n",
    "creator.create(\"Individual\", gp.PrimitiveTree, fitness=creator.FitnessMin)"
   ]
  },
  {
   "cell_type": "code",
   "execution_count": 5,
   "id": "78911ec6-aa63-4a23-8cb7-4b70815d08a4",
   "metadata": {},
   "outputs": [],
   "source": [
    "toolbox = base.Toolbox()\n",
    "toolbox.register(\"expr\", gp.genHalfAndHalf, pset=pset, min_=1, max_=2)\n",
    "toolbox.register(\"individual\", tools.initIterate, creator.Individual, toolbox.expr)\n",
    "toolbox.register(\"population\", tools.initRepeat, list, toolbox.individual)\n",
    "toolbox.register(\"compile\", gp.compile, pset=pset)"
   ]
  },
  {
   "cell_type": "code",
   "execution_count": 6,
   "id": "63d3a5fc-fe89-42aa-a0d7-f540eeea69f8",
   "metadata": {},
   "outputs": [],
   "source": [
    "def fitness(individual, points):\n",
    "    # solução numérica:\n",
    "    # Transformar a expressão em função:\n",
    "    func = toolbox.compile(expr=individual)\n",
    "    # Transformar função em modelo para o fit:\n",
    "    expr_model=lmfit.Model(func)\n",
    "    expr_model.set_param_hint('a', value=1,vary=True) \n",
    "    expr_model.set_param_hint('b', value=1,vary=True) \n",
    "    param = expr_model.make_params()\n",
    "    try:\n",
    "        results = expr_model.fit(X, t = T, params = param, nan_policy='omit')\n",
    "        RMSE = np.sqrt(sum(list((np.array(results.best_fit) - np.array(X))**2)))\n",
    "    except ValueError or TypeError:\n",
    "        RMSE = float('inf')\n",
    "        \n",
    "    #print(np.shape(X), np.shape(T), np.shape(param))\n",
    "    #results = expr_model.fit(X, t = T, params = param, nan_policy='omit')\n",
    "    \n",
    "    #RMSE = np.sqrt(sum(list((np.array(results.best_fit) - np.array(X))**2)))\n",
    "    tamanho = len(str(individual))\n",
    "    return (RMSE**2) * tamanho,"
   ]
  },
  {
   "cell_type": "code",
   "execution_count": 7,
   "id": "94950fa4-7112-4e68-b8fe-96bc85c0256e",
   "metadata": {},
   "outputs": [],
   "source": [
    "toolbox.register(\"evaluate\", fitness, points = list(np.arange(T0, TF + H, H)))\n",
    "toolbox.register(\"select\", tools.selTournament, tournsize=3)\n",
    "toolbox.register(\"mate\", gp.cxOnePoint)\n",
    "toolbox.register(\"expr_mut\", gp.genFull, min_=0, max_=2)\n",
    "toolbox.register(\"mutate\", gp.mutUniform, expr=toolbox.expr_mut, pset=pset)\n",
    "\n",
    "toolbox.decorate(\"mate\", gp.staticLimit(key=operator.attrgetter(\"height\"), max_value=17))\n",
    "toolbox.decorate(\"mutate\", gp.staticLimit(key=operator.attrgetter(\"height\"), max_value=17))"
   ]
  },
  {
   "cell_type": "code",
   "execution_count": 8,
   "id": "aa00e613-0f7f-4ef6-a22a-3c8446f925be",
   "metadata": {},
   "outputs": [],
   "source": [
    "stats_fit = tools.Statistics(lambda ind: ind.fitness.values)\n",
    "stats_size = tools.Statistics(len)\n",
    "mstats = tools.MultiStatistics(fitness=stats_fit, size=stats_size)\n",
    "mstats.register(\"avg\", numpy.mean)\n",
    "mstats.register(\"std\", numpy.std)\n",
    "mstats.register(\"min\", numpy.min)\n",
    "mstats.register(\"max\", numpy.max)"
   ]
  },
  {
   "cell_type": "code",
   "execution_count": 9,
   "id": "09641372-a4cf-42fa-a241-a6b1e524063e",
   "metadata": {},
   "outputs": [
    {
     "name": "stdout",
     "output_type": "stream",
     "text": [
      "300 {'fitness': <deap.tools.support.Statistics object at 0x0000021DB22B6280>, 'size': <deap.tools.support.Statistics object at 0x0000021DB22B6550>}\n",
      "   \t      \t                      fitness                      \t                      size                     \n",
      "   \t      \t---------------------------------------------------\t-----------------------------------------------\n",
      "gen\tnevals\tavg\tgen\tmax\tmin        \tnevals\tstd\tavg    \tgen\tmax\tmin\tnevals\tstd    \n",
      "0  \t300   \tinf\t0  \tinf\t7.15509e+07\t300   \tnan\t3.28667\t0  \t7  \t2  \t300   \t1.34083\n",
      "1  \t175   \tinf\t1  \tinf\t4.16049e+07\t175   \tnan\t2.76   \t1  \t8  \t1  \t175   \t1.18423\n",
      "2  \t169   \t1.99066e+10\t2  \t5.69621e+12\t4.16049e+07\t169   \t3.2832e+11\t2.65667\t2  \t10 \t1  \t169   \t1.28794\n",
      "3  \t151   \t3.26597e+08\t3  \t2.48364e+09\t4.16049e+07\t151   \t2.75493e+08\t2.67333\t3  \t8  \t1  \t151   \t1.35645\n",
      "4  \t141   \t3.31936e+08\t4  \t3.12399e+10\t4.16049e+07\t141   \t1.80609e+09\t2.66   \t4  \t8  \t1  \t141   \t1.68851\n",
      "5  \t158   \t5.08628e+08\t5  \t1.02117e+11\t4.16049e+07\t158   \t5.88081e+09\t2.35333\t5  \t8  \t1  \t158   \t1.89081\n",
      "6  \t166   \tinf        \t6  \tinf        \t4.16049e+07\t166   \tnan        \t1.48333\t6  \t8  \t1  \t166   \t1.31772\n",
      "7  \t166   \t1.18048e+08\t7  \t3.76118e+09\t4.16049e+07\t166   \t3.36213e+08\t1.26333\t7  \t11 \t1  \t166   \t1.10181\n",
      "8  \t170   \t5.74961e+08\t8  \t1.1622e+11 \t4.16049e+07\t170   \t6.92754e+09\t1.19   \t8  \t7  \t1  \t170   \t0.836999\n",
      "9  \t167   \t9.5819e+07 \t9  \t2.42288e+09\t4.16049e+07\t167   \t2.80108e+08\t1.14667\t9  \t7  \t1  \t167   \t0.747321\n",
      "10 \t160   \t1.03897e+08\t10 \t2.48723e+09\t4.16049e+07\t160   \t2.75806e+08\t1.18   \t10 \t6  \t1  \t160   \t0.673993\n",
      "11 \t173   \t2.01682e+08\t11 \t3.12399e+10\t4.16049e+07\t173   \t1.80951e+09\t1.19667\t11 \t6  \t1  \t173   \t0.760256\n",
      "12 \t191   \t1.07907e+08\t12 \t2.3659e+09 \t4.16049e+07\t191   \t2.67604e+08\t1.22333\t12 \t6  \t1  \t191   \t0.83274 \n",
      "13 \t152   \t2.53992e+10\t13 \t7.59495e+12\t4.16049e+07\t152   \t4.37758e+11\t1.13333\t13 \t7  \t1  \t152   \t0.713364\n",
      "14 \t175   \t3.00144e+08\t14 \t6.25608e+10\t2.86806e+07\t175   \t3.60699e+09\t1.17333\t14 \t7  \t1  \t175   \t0.750526\n",
      "15 \t169   \t1.11421e+08\t15 \t2.60479e+09\t2.86806e+07\t169   \t2.94548e+08\t1.3    \t15 \t7  \t1  \t169   \t0.967815\n",
      "16 \t170   \t2.04611e+08\t16 \t3.12399e+10\t2.08586e+07\t170   \t1.81579e+09\t1.29667\t16 \t5  \t1  \t170   \t0.853613\n",
      "17 \t178   \t2.15794e+08\t17 \t3.12399e+10\t2.08586e+07\t178   \t1.81914e+09\t1.64   \t17 \t6  \t1  \t178   \t1.27426 \n",
      "18 \t155   \t8.81412e+08\t18 \t7.41947e+10\t2.86806e+07\t155   \t5.69374e+09\t2.28   \t18 \t8  \t1  \t155   \t1.63959 \n",
      "19 \t171   \tinf        \t19 \tinf        \t4.85663e+06\t171   \tnan        \t2.92   \t19 \t10 \t1  \t171   \t1.70106 \n",
      "20 \t162   \tinf        \t20 \tinf        \t4.85663e+06\t162   \tnan        \t3.76333\t20 \t10 \t1  \t162   \t1.67749 \n",
      "21 \t174   \tinf        \t21 \tinf        \t4.85663e+06\t174   \tnan        \t4.05   \t21 \t10 \t1  \t174   \t1.61478 \n",
      "22 \t149   \tinf        \t22 \tinf        \t4.85663e+06\t149   \tnan        \t4.28   \t22 \t12 \t1  \t149   \t1.76114 \n",
      "23 \t171   \tinf        \t23 \tinf        \t1.51767e+06\t171   \tnan        \t4.73667\t23 \t13 \t1  \t171   \t2.24217 \n",
      "24 \t156   \tinf        \t24 \tinf        \t1.51767e+06\t156   \tnan        \t5.38333\t24 \t18 \t1  \t156   \t2.97485 \n",
      "25 \t139   \tinf        \t25 \tinf        \t1.51767e+06\t139   \tnan        \t6.19667\t25 \t16 \t1  \t139   \t3.34435 \n",
      "26 \t156   \tinf        \t26 \tinf        \t1.51767e+06\t156   \tnan        \t7.44   \t26 \t18 \t1  \t156   \t3.62763 \n",
      "27 \t149   \tinf        \t27 \tinf        \t1.12096e-20\t149   \tnan        \t8.63667\t27 \t18 \t1  \t149   \t3.61819 \n",
      "28 \t157   \tinf        \t28 \tinf        \t2.89138e-21\t157   \tnan        \t8.96   \t28 \t26 \t1  \t157   \t3.95032 \n",
      "29 \t180   \tinf        \t29 \tinf        \t2.89138e-21\t180   \tnan        \t9.4    \t29 \t24 \t1  \t180   \t3.70405 \n",
      "30 \t175   \tinf        \t30 \tinf        \t1.01489e-21\t175   \tnan        \t9.47333\t30 \t26 \t1  \t175   \t3.90674 \n",
      "31 \t177   \tinf        \t31 \tinf        \t1.01489e-21\t177   \tnan        \t9.40333\t31 \t30 \t1  \t177   \t4.15379 \n",
      "32 \t161   \tinf        \t32 \tinf        \t6.01242e-22\t161   \tnan        \t9.25   \t32 \t32 \t1  \t161   \t4.28962 \n",
      "33 \t170   \tinf        \t33 \tinf        \t6.01242e-22\t170   \tnan        \t8.95   \t33 \t32 \t1  \t170   \t4.40691 \n",
      "34 \t183   \tinf        \t34 \tinf        \t4.71526e-22\t183   \tnan        \t9.17   \t34 \t34 \t1  \t183   \t4.97002 \n",
      "35 \t145   \tinf        \t35 \tinf        \t4.71526e-22\t145   \tnan        \t9.44667\t35 \t36 \t1  \t145   \t5.10691 \n",
      "36 \t179   \tinf        \t36 \tinf        \t4.71526e-22\t179   \tnan        \t8.90333\t36 \t22 \t1  \t179   \t3.97333 \n",
      "37 \t157   \tinf        \t37 \tinf        \t4.71526e-22\t157   \tnan        \t8.92   \t37 \t22 \t1  \t157   \t4.21192 \n",
      "38 \t154   \tinf        \t38 \tinf        \t4.71526e-22\t154   \tnan        \t9.03   \t38 \t24 \t1  \t154   \t3.96263 \n",
      "39 \t157   \tinf        \t39 \tinf        \t4.71526e-22\t157   \tnan        \t8.77667\t39 \t22 \t1  \t157   \t3.70857 \n",
      "40 \t170   \tinf        \t40 \tinf        \t4.71526e-22\t170   \tnan        \t8.54333\t40 \t22 \t1  \t170   \t3.59    \n"
     ]
    }
   ],
   "source": [
    "pop = toolbox.population(n=300)\n",
    "hof = tools.HallOfFame(1)\n",
    "print(len(pop), mstats)\n",
    "pop, log = eaSimple(pop, toolbox, 0.5, 0.1, 40, stats=mstats, halloffame=hof, verbose=True)"
   ]
  },
  {
   "cell_type": "code",
   "execution_count": 10,
   "id": "ccc46b01-3e7a-4343-83d8-c01e04461caf",
   "metadata": {},
   "outputs": [
    {
     "name": "stdout",
     "output_type": "stream",
     "text": [
      "protected_exp(protectedDiv(add(t, b), a))\n"
     ]
    }
   ],
   "source": [
    "print(str(hof.items[0]))"
   ]
  },
  {
   "cell_type": "code",
   "execution_count": 11,
   "id": "beb5edd4-a3a0-4137-a3a8-1632db712f10",
   "metadata": {},
   "outputs": [
    {
     "name": "stdout",
     "output_type": "stream",
     "text": [
      "protected_exp(protectedDiv(add(t, b), a))\n"
     ]
    },
    {
     "data": {
      "image/png": "[encoded data removed]",
      "text/plain": [
       "<Figure size 432x288 with 1 Axes>"
      ]
     },
     "metadata": {
      "needs_background": "light"
     },
     "output_type": "display_data"
    }
   ],
   "source": [
    "melhor_individuo = str(hof.items[0])\n",
    "print(melhor_individuo)\n",
    "func = toolbox.compile(expr=melhor_individuo)\n",
    "# Transformar função em modelo para o fit:\n",
    "expr_model=lmfit.Model(func)\n",
    "expr_model.set_param_hint('a', value=1,vary=True) \n",
    "expr_model.set_param_hint('b', value=1,vary=True) \n",
    "param = expr_model.make_params()\n",
    "#print(np.shape(X), np.shape(T), np.shape(param))\n",
    "results = expr_model.fit(X, t = T, params = param, nan_policy='omit')\n",
    "RMSE = np.sqrt(sum(list((np.array(results.best_fit) - np.array(X))**2)))\n",
    "\n",
    "fig, ax = plt.subplots(1,1)\n",
    "ax.set_title('Modelo de Malthus', size = 18)\n",
    "ax.scatter(T, X, c = 'g')\n",
    "ax.plot(T, X, label = 'Runge-Kutta', c = 'g')\n",
    "ax.scatter(T, results.best_fit, label = 'Regressão Simbólica', marker = '>', c = 'r')\n",
    "ax.plot(T, results.best_fit,c = 'r')\n",
    "ax.legend()\n",
    "\n",
    "ax.legend()\n",
    "ax.grid('--')\n",
    "#plt.savefig('Malthus.png', dpi = 200)"
   ]
  },
  {
   "cell_type": "code",
   "execution_count": 12,
   "id": "bb40e97a-b1c2-4e3f-912a-b750babb5351",
   "metadata": {},
   "outputs": [],
   "source": [
    "# Define your new version of protectedDiv\n",
    "def new_protectedDiv(x, y):\n",
    "    # Your new implementation here\n",
    "    return x / y\n",
    "\n",
    "# Define your new version of protected_exp\n",
    "def new_protected_exp(x):\n",
    "    # Your new implementation here\n",
    "    return sp.exp(x)\n",
    "\n",
    "# Create a new primitive set\n",
    "new_pset = gp.PrimitiveSet(\"main\", arity=3)\n",
    "\n",
    "# Register the new primitives with the desired names\n",
    "new_pset.addPrimitive(operator.add, 2)\n",
    "new_pset.addPrimitive(operator.sub, 2)\n",
    "new_pset.addPrimitive(operator.mul, 2)\n",
    "new_pset.addPrimitive(operator.neg, 1)\n",
    "new_pset.addPrimitive(sp.cos, 1)\n",
    "new_pset.addPrimitive(sp.sin, 1)\n",
    "new_pset.addPrimitive(new_protectedDiv, arity=2, name=\"protectedDiv\")\n",
    "new_pset.addPrimitive(new_protected_exp, arity=1, name=\"protected_exp\")\n",
    "new_pset.addEphemeralConstant(\"rand102\", lambda: rd.randint(-1,1))\n",
    "new_pset.renameArguments(ARG0='t', ARG1 = 'a', ARG2 = 'b')\n",
    "toolbox.register(\"compile\", gp.compile, pset=new_pset)"
   ]
  },
  {
   "cell_type": "code",
   "execution_count": 13,
   "id": "c49e2e2b-6b45-46bf-a584-77930a6d3531",
   "metadata": {},
   "outputs": [],
   "source": [
    "func = toolbox.compile(expr=melhor_individuo)\n",
    "t = Symbol('t')\n",
    "a = Symbol('a')\n",
    "b = Symbol('b')"
   ]
  },
  {
   "cell_type": "code",
   "execution_count": 14,
   "id": "5b2f1c32-657d-4a07-8879-dd2f1b0c9951",
   "metadata": {},
   "outputs": [
    {
     "data": {
      "text/latex": [
       "$\\displaystyle e^{\\frac{b}{a}} e^{\\frac{t}{a}}$"
      ],
      "text/plain": [
       "exp(b/a)*exp(t/a)"
      ]
     },
     "metadata": {},
     "output_type": "display_data"
    }
   ],
   "source": [
    "display(sp.expand(func(t,a,b)))"
   ]
  }
 ],
 "metadata": {
  "kernelspec": {
   "display_name": "ilumpy",
   "language": "python",
   "name": "ilumpy"
  },
  "language_info": {
   "codemirror_mode": {
    "name": "ipython",
    "version": 3
   },
   "file_extension": ".py",
   "mimetype": "text/x-python",
   "name": "python",
   "nbconvert_exporter": "python",
   "pygments_lexer": "ipython3",
   "version": "3.9.7"
  }
 },
 "nbformat": 4,
 "nbformat_minor": 5
}
