{
 "cells": [
  {
   "cell_type": "code",
   "execution_count": 1,
   "id": "5e17c7c6-eaed-4f34-a4f6-071fb492c3aa",
   "metadata": {},
   "outputs": [],
   "source": [
    "from deap import base, creator, tools, gp\n",
    "from deap.algorithms import eaSimple\n",
    "import math\n",
    "import numpy\n",
    "import operator\n",
    "import random as rd\n",
    "import lmfit\n",
    "import numpy as np\n",
    "import sympy as sp\n",
    "import matplotlib.pyplot as plt\n",
    "plt.style.use('seaborn-bright')\n",
    "from sympy import Symbol, expand\n",
    "from funcoes import malthus, verhulst, gompertz, runge_kutta"
   ]
  },
  {
   "cell_type": "code",
   "execution_count": 2,
   "id": "3d395ccc-f2c7-41d6-9967-0731df7fbbc3",
   "metadata": {},
   "outputs": [],
   "source": [
    "T0 = 0\n",
    "TF = 1\n",
    "H = 0.01\n",
    "X0 = 5\n",
    "K = 0.6\n",
    "\n",
    "T, X = runge_kutta(malthus, T0, X0, TF, H, K)"
   ]
  },
  {
   "cell_type": "code",
   "execution_count": 3,
   "id": "fb8643cf-2791-460d-b8d9-a94a3997397d",
   "metadata": {},
   "outputs": [],
   "source": [
    "NUM_GERACOES = 5000\n",
    "TAMANHO_POP = 1000\n",
    "TAMANHO_TORNEIO = 3\n",
    "CHANCE_CRUZAMENTO = 0.5\n",
    "CHANCE_MUTACAO = 0.1"
   ]
  },
  {
   "cell_type": "code",
   "execution_count": 4,
   "id": "71f0c33a-c496-4181-b142-7c5d502eed80",
   "metadata": {},
   "outputs": [],
   "source": [
    "def Div(left, right):\n",
    "    if type(right) == float:\n",
    "        if right == 0:\n",
    "            #print('div error')\n",
    "            return 1\n",
    "        else:\n",
    "            return left / right\n",
    "    else:\n",
    "        # Replace zero terms in the divider array with 1\n",
    "        right_without_zeros = np.where(right == 0, 1, right)\n",
    "\n",
    "        # Perform element-wise division\n",
    "        result = left / right_without_zeros\n",
    "        return result\n",
    "\n",
    "def Exp(x):\n",
    "    try:\n",
    "        result = np.exp(x)\n",
    "    except OverflowError:\n",
    "        print('exp error')\n",
    "        result = np.ones_like(x)\n",
    "    return result\n",
    "\n",
    "def X0_add(x):\n",
    "    return x + X0\n",
    "\n",
    "def X0_mul(x):\n",
    "    return x * X0\n",
    "\n",
    "def X0_div(x):\n",
    "    return x / X0\n",
    "\n",
    "def K_add(x):\n",
    "    return x + K\n",
    "\n",
    "def K_mul(x):\n",
    "    return x * K\n",
    "\n",
    "def K_div(x):\n",
    "    return x / K\n",
    "\n",
    "pset = gp.PrimitiveSet(\"MAIN\", 1)\n",
    "pset.addPrimitive(operator.add, 2)\n",
    "pset.addPrimitive(operator.sub, 2)\n",
    "pset.addPrimitive(operator.mul, 2)\n",
    "pset.addPrimitive(Div, 2)\n",
    "pset.addPrimitive(operator.neg, 1)\n",
    "pset.addPrimitive(np.cos, 1)\n",
    "pset.addPrimitive(np.sin, 1)\n",
    "pset.addPrimitive(Exp, 1)\n",
    "\n",
    "pset.addPrimitive(X0_add, 1)\n",
    "pset.addPrimitive(X0_mul, 1)\n",
    "pset.addPrimitive(X0_div, 1)\n",
    "pset.addPrimitive(K_add, 1)\n",
    "pset.addPrimitive(K_mul, 1)\n",
    "pset.addPrimitive(K_div, 1)\n",
    "\n",
    "pset.addEphemeralConstant(\"rand101\", lambda: rd.randint(-1,1))\n",
    "\n",
    "pset.renameArguments(ARG0='t')"
   ]
  },
  {
   "cell_type": "code",
   "execution_count": 5,
   "id": "82158262-93d5-467e-8913-7ea4c0d9c4ba",
   "metadata": {},
   "outputs": [],
   "source": [
    "creator.create(\"FitnessMin\", base.Fitness, weights=(-1.0,))\n",
    "creator.create(\"Individual\", gp.PrimitiveTree, fitness=creator.FitnessMin)"
   ]
  },
  {
   "cell_type": "code",
   "execution_count": 6,
   "id": "78911ec6-aa63-4a23-8cb7-4b70815d08a4",
   "metadata": {},
   "outputs": [],
   "source": [
    "toolbox = base.Toolbox()\n",
    "toolbox.register(\"expr\", gp.genHalfAndHalf, pset=pset, min_=1, max_=2)\n",
    "toolbox.register(\"individual\", tools.initIterate, creator.Individual, toolbox.expr)\n",
    "toolbox.register(\"population\", tools.initRepeat, list, toolbox.individual)\n",
    "toolbox.register(\"compile\", gp.compile, pset=pset)"
   ]
  },
  {
   "cell_type": "code",
   "execution_count": 7,
   "id": "63d3a5fc-fe89-42aa-a0d7-f540eeea69f8",
   "metadata": {},
   "outputs": [],
   "source": [
    "def fitness(individual, points):\n",
    "    # solução numérica:\n",
    "    # Transformar a expressão em função:\n",
    "    func = toolbox.compile(expr=individual)\n",
    "    Xexpr = func(T)\n",
    "    RMSE = np.sqrt(sum((Xexpr - X)**2))\n",
    "    tamanho = len(str(individual))\n",
    "    if tamanho > 35:\n",
    "        return float('inf'),\n",
    "    else:\n",
    "        return (RMSE**1) * (1+tamanho/5)**0,"
   ]
  },
  {
   "cell_type": "code",
   "execution_count": 8,
   "id": "94950fa4-7112-4e68-b8fe-96bc85c0256e",
   "metadata": {},
   "outputs": [],
   "source": [
    "toolbox.register(\"evaluate\", fitness, points = list(np.arange(T0, TF + H, H)))\n",
    "toolbox.register(\"select\", tools.selTournament, tournsize=TAMANHO_TORNEIO)\n",
    "toolbox.register(\"mate\", gp.cxOnePoint)\n",
    "toolbox.register(\"expr_mut\", gp.genFull, min_=0, max_=2)\n",
    "toolbox.register(\"mutate\", gp.mutUniform, expr=toolbox.expr_mut, pset=pset)\n",
    "toolbox.decorate(\"mate\", gp.staticLimit(key=operator.attrgetter(\"height\"), max_value=17))\n",
    "toolbox.decorate(\"mutate\", gp.staticLimit(key=operator.attrgetter(\"height\"), max_value=17))"
   ]
  },
  {
   "cell_type": "code",
   "execution_count": 9,
   "id": "aa00e613-0f7f-4ef6-a22a-3c8446f925be",
   "metadata": {},
   "outputs": [],
   "source": [
    "stats_fit = tools.Statistics(lambda ind: ind.fitness.values)\n",
    "stats_size = tools.Statistics(len)\n",
    "mstats = tools.MultiStatistics(fitness=stats_fit, size=stats_size)\n",
    "mstats.register(\"avg\", numpy.mean)\n",
    "mstats.register(\"std\", numpy.std)\n",
    "mstats.register(\"min\", numpy.min)\n",
    "mstats.register(\"max\", numpy.max)"
   ]
  },
  {
   "cell_type": "code",
   "execution_count": 10,
   "id": "09641372-a4cf-42fa-a241-a6b1e524063e",
   "metadata": {},
   "outputs": [
    {
     "name": "stderr",
     "output_type": "stream",
     "text": [
      "c:\\venv\\ilumpy\\lib\\site-packages\\numpy\\core\\_methods.py:202: RuntimeWarning: invalid value encountered in subtract\n",
      "  x = asanyarray(arr - arrmean)\n",
      "C:\\Users\\MARCOS~1\\AppData\\Local\\Temp/ipykernel_8636/3143656561.py:6: RuntimeWarning: overflow encountered in square\n",
      "  RMSE = np.sqrt(sum((Xexpr - X)**2))\n",
      "C:\\Users\\MARCOS~1\\AppData\\Local\\Temp/ipykernel_8636/1466989446.py:18: RuntimeWarning: overflow encountered in exp\n",
      "  result = np.exp(x)\n"
     ]
    }
   ],
   "source": [
    "pop = toolbox.population(n=TAMANHO_POP)\n",
    "hof = tools.HallOfFame(5)\n",
    "eaSimple(pop, toolbox,\n",
    "                cxpb=CHANCE_CRUZAMENTO,mutpb=CHANCE_MUTACAO, \n",
    "                ngen=NUM_GERACOES , stats=mstats, halloffame=hof, verbose=False)\n",
    "a = 1"
   ]
  },
  {
   "cell_type": "code",
   "execution_count": 11,
   "id": "ccc46b01-3e7a-4343-83d8-c01e04461caf",
   "metadata": {},
   "outputs": [
    {
     "name": "stdout",
     "output_type": "stream",
     "text": [
      "X0_add(add(K_div(K_div(t)), t))\n",
      "\n",
      "X0_add(add(t, K_div(K_div(t))))\n",
      "\n",
      "add(X0_add(K_div(K_div(t))), t)\n",
      "\n",
      "add(t, X0_add(K_div(K_div(t))))\n",
      "\n",
      "add(K_div(K_div(t)), X0_add(t))\n",
      "\n"
     ]
    }
   ],
   "source": [
    "for i in hof.items:\n",
    "    print(str(i))\n",
    "    print()"
   ]
  },
  {
   "cell_type": "code",
   "execution_count": 12,
   "id": "beb5edd4-a3a0-4137-a3a8-1632db712f10",
   "metadata": {},
   "outputs": [
    {
     "name": "stdout",
     "output_type": "stream",
     "text": [
      "X0_add(add(K_div(K_div(t)), t))\n"
     ]
    },
    {
     "data": {
      "image/png": "[encoded data removed]",
      "text/plain": [
       "<Figure size 432x288 with 1 Axes>"
      ]
     },
     "metadata": {
      "needs_background": "light"
     },
     "output_type": "display_data"
    }
   ],
   "source": [
    "T0 = 0\n",
    "TF = 10\n",
    "H = 0.1\n",
    "X0 = 5\n",
    "K = 0.4\n",
    "\n",
    "T, X = runge_kutta(malthus, T0, X0, TF, H, K)\n",
    "\n",
    "melhor_individuo = str(hof.items[0])\n",
    "melhor_individuo_ever = 'X0_mul(Exp(K_mul(t)))'\n",
    "print(melhor_individuo)\n",
    "func = toolbox.compile(expr=melhor_individuo)\n",
    "Xexpr = func(T)\n",
    "func = toolbox.compile(expr=melhor_individuo_ever)\n",
    "Xbest = func(T)\n",
    "fig, ax = plt.subplots(1,1)\n",
    "ax.set_title('Modelo de Malthus', size = 18)\n",
    "ax.scatter(T, X, c = 'g')\n",
    "ax.plot(T, X, label = 'Runge-Kutta', c = 'g')\n",
    "ax.scatter(T, Xexpr, label = 'Regressão Simbólica', marker = '>', c = 'r')\n",
    "ax.plot(T, Xexpr, c = 'r')\n",
    "ax.plot(T, Xbest, label = 'Analitica', c = '0')\n",
    "ax.legend()\n",
    "\n",
    "ax.legend()\n",
    "ax.grid('--')\n",
    "#plt.savefig('Malthus.png', dpi = 200)"
   ]
  },
  {
   "cell_type": "code",
   "execution_count": 13,
   "id": "bb40e97a-b1c2-4e3f-912a-b750babb5351",
   "metadata": {},
   "outputs": [],
   "source": [
    "def Div(left, right):\n",
    "    return left / right\n",
    "\n",
    "def Exp(x):\n",
    "    return sp.exp(x)\n",
    "\n",
    "def X0_add(x):\n",
    "    return x + X0\n",
    "\n",
    "def X0_mul(x):\n",
    "    return x * X0\n",
    "\n",
    "def X0_div(x):\n",
    "    return x / X0\n",
    "\n",
    "def X0_sub(x):\n",
    "    return x - X0\n",
    "\n",
    "def K_add(x):\n",
    "    return x + K\n",
    "\n",
    "def K_mul(x):\n",
    "    return x * K\n",
    "\n",
    "def K_div(x):\n",
    "    return x / K\n",
    "\n",
    "def k_sub(x):\n",
    "    return x - K\n",
    "\n",
    "    \n",
    "new_pset = gp.PrimitiveSet(\"MAIN\", 1)\n",
    "\n",
    "new_pset.addPrimitive(operator.add, 2)\n",
    "new_pset.addPrimitive(operator.sub, 2)\n",
    "new_pset.addPrimitive(operator.mul, 2)\n",
    "new_pset.addPrimitive(Div, 2)\n",
    "new_pset.addPrimitive(operator.neg, 1)\n",
    "new_pset.addPrimitive(sp.cos, 1)\n",
    "new_pset.addPrimitive(sp.sin, 1)\n",
    "new_pset.addPrimitive(Exp, 1)\n",
    "\n",
    "new_pset.addPrimitive(X0_add, 1)\n",
    "new_pset.addPrimitive(X0_mul, 1)\n",
    "new_pset.addPrimitive(X0_div, 1)\n",
    "new_pset.addPrimitive(X0_sub, 1)\n",
    "new_pset.addPrimitive(K_add, 1)\n",
    "new_pset.addPrimitive(K_mul, 1)\n",
    "new_pset.addPrimitive(K_div, 1)\n",
    "new_pset.addPrimitive(k_sub, 1)\n",
    "\n",
    "new_pset.addEphemeralConstant(\"rand102\", lambda: rd.randint(-1,1))\n",
    "\n",
    "new_pset.renameArguments(ARG0='t')\n",
    "toolbox.register(\"compile\", gp.compile, pset=new_pset)"
   ]
  },
  {
   "cell_type": "code",
   "execution_count": 14,
   "id": "c49e2e2b-6b45-46bf-a584-77930a6d3531",
   "metadata": {},
   "outputs": [],
   "source": [
    "func = toolbox.compile(expr=melhor_individuo)\n",
    "t = Symbol('t')\n",
    "X0 = Symbol('X_0')\n",
    "K = Symbol('k')"
   ]
  },
  {
   "cell_type": "code",
   "execution_count": 15,
   "id": "5b2f1c32-657d-4a07-8879-dd2f1b0c9951",
   "metadata": {},
   "outputs": [
    {
     "data": {
      "text/latex": [
       "$\\displaystyle X_{0} + t + \\frac{t}{k^{2}}$"
      ],
      "text/plain": [
       "X_0 + t + t/k**2"
      ]
     },
     "metadata": {},
     "output_type": "display_data"
    }
   ],
   "source": [
    "display(sp.expand(func(t)))"
   ]
  },
  {
   "cell_type": "code",
   "execution_count": null,
   "id": "0dee4e8e-d8fe-4d0b-8f90-a52e1e3c7562",
   "metadata": {},
   "outputs": [],
   "source": []
  }
 ],
 "metadata": {
  "kernelspec": {
   "display_name": "ilumpy",
   "language": "python",
   "name": "ilumpy"
  },
  "language_info": {
   "codemirror_mode": {
    "name": "ipython",
    "version": 3
   },
   "file_extension": ".py",
   "mimetype": "text/x-python",
   "name": "python",
   "nbconvert_exporter": "python",
   "pygments_lexer": "ipython3",
   "version": "3.9.7"
  }
 },
 "nbformat": 4,
 "nbformat_minor": 5
}
